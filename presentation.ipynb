{
 "cells": [
  {
   "cell_type": "markdown",
   "metadata": {},
   "source": [
    "# Bare bones sweep over regularisation parameter for several algorithms "
   ]
  },
  {
   "cell_type": "code",
   "execution_count": null,
   "metadata": {},
   "outputs": [],
   "source": [
    "from cil.recon import FDK\n",
    "from cil.utilities.display import show2D\n",
    "import matplotlib.pyplot as plt\n",
    "import numpy as np\n",
    "import os\n",
    "import util"
   ]
  },
  {
   "cell_type": "markdown",
   "metadata": {},
   "source": [
    "# Choose and load data set"
   ]
  },
  {
   "cell_type": "code",
   "execution_count": null,
   "metadata": {},
   "outputs": [],
   "source": [
    "data_set_identifier = 'ta' #'solid_disc' 'ta' 'tb' 'tc' 'td'\n",
    "datafull = util.load_htc2022data('../HTC2022/data/htc2022_'+data_set_identifier+'_full.mat')"
   ]
  },
  {
   "cell_type": "code",
   "execution_count": null,
   "metadata": {},
   "outputs": [],
   "source": [
    "ref = util.loadImg('../HTC2022/data/segmented_references/htc2022_'+data_set_identifier+'_full_recon_fbp_seg.png')"
   ]
  },
  {
   "cell_type": "markdown",
   "metadata": {},
   "source": [
    "# All parameters here"
   ]
  },
  {
   "cell_type": "code",
   "execution_count": null,
   "metadata": {},
   "outputs": [],
   "source": [
    "# Reduce data\n",
    "ang_start = 0\n",
    "ang_range = 50\n",
    "\n",
    "# Image size\n",
    "im_size = 512\n",
    "\n",
    "# Upper bound mask\n",
    "ub_val = 0.040859 # acrylic_attenuation in unit 1/mm\n",
    "ub_mask_type = 2   # 1 basic 0.97 circle. 2 fitted\n",
    "def ub_mask_str(ub_mask_type):\n",
    "    return '97% radius' if ub_mask_type == 1 else 'fitted'\n",
    "\n",
    "basic_mask_radius = 0.97\n",
    "\n",
    "# Lower bound mask\n",
    "lb_mask_type = 0   # 0:  lower bound 0 everywhere, 1: outer annulus equal to upper bound acrylic\n",
    "lb_inner_radius = 200\n",
    "lb_val = 0\n",
    "\n",
    "# Reconstruction\n",
    "num_iters = 2000\n",
    "\n",
    "# Segment\n",
    "segment_type = 2  # 1 basic thresholding, 2 crazy\n",
    "\n"
   ]
  },
  {
   "cell_type": "markdown",
   "metadata": {},
   "source": [
    "# Reduce data"
   ]
  },
  {
   "cell_type": "code",
   "execution_count": null,
   "metadata": {},
   "outputs": [],
   "source": [
    "data = util.generate_reduced_data(datafull, ang_start, ang_range)\n",
    "# data = util.load_htc2022data(os.path.abspath(\"C:/Users/ofn77899/Data/HTC2022/test_input/A.mat\"), dataset_name=\"CtDataLimited\")\n",
    "ang_range = np.abs(data.geometry.angles[-1]-data.geometry.angles[0])\n"
   ]
  },
  {
   "cell_type": "markdown",
   "metadata": {},
   "source": [
    "# Image geometry"
   ]
  },
  {
   "cell_type": "code",
   "execution_count": null,
   "metadata": {},
   "outputs": [],
   "source": [
    "ig = data.geometry.get_ImageGeometry()\n",
    "ig.voxel_num_x = im_size\n",
    "ig.voxel_num_y = im_size"
   ]
  },
  {
   "cell_type": "markdown",
   "metadata": {},
   "source": [
    "# Preprocess"
   ]
  },
  {
   "cell_type": "code",
   "execution_count": null,
   "metadata": {},
   "outputs": [],
   "source": [
    "data_renorm = util.correct_normalisation(data)\n",
    "data_pad = util.pad_zeros(data_renorm)\n",
    "data_BHC = util.apply_BHC(data_pad)"
   ]
  },
  {
   "cell_type": "markdown",
   "metadata": {},
   "source": [
    "## Circle fitting"
   ]
  },
  {
   "cell_type": "code",
   "execution_count": null,
   "metadata": {},
   "outputs": [],
   "source": [
    "circle_parameters = util.find_circle_parameters(data, ig)\n",
    "outercircle = ig.allocate(0)\n",
    "util.fill_circular_mask(circle_parameters, outercircle.as_array(), 1, *outercircle.shape)\n",
    "# fill the circle with 0 in a smaller circle to highlight the circumference\n",
    "smaller_circle = circle_parameters.copy()\n",
    "smaller_circle[0] = smaller_circle[0] - 2\n",
    "print (circle_parameters, smaller_circle)\n",
    "innercircle = ig.allocate(0)\n",
    "util.fill_circular_mask(smaller_circle, innercircle.as_array(), 1, *innercircle.shape)\n",
    "\n",
    "dcircle = outercircle - innercircle\n"
   ]
  },
  {
   "cell_type": "code",
   "execution_count": null,
   "metadata": {},
   "outputs": [],
   "source": [
    "\n",
    "# show FDK and gradient and circle\n",
    "def recon_FDK(data, preprocess_data=False):\n",
    "    if preprocess_data:\n",
    "        data_renorm = util.correct_normalisation(data)\n",
    "        data_pad = util.pad_zeros(data_renorm)\n",
    "        data_BHC = util.apply_BHC(data_pad)\n",
    "    else:\n",
    "        data_BHC = data\n",
    "    recon = FDK(data_BHC, ig).run()\n",
    "    return recon\n",
    "recons = [recon_FDK(datafull, preprocess_data=True)]\n",
    "titles = ['Full angular range FDK']\n",
    "recons.append( recon_FDK(data, preprocess_data=False) )\n",
    "titles.append( 'Limited Angle FDK' )\n"
   ]
  },
  {
   "cell_type": "code",
   "execution_count": null,
   "metadata": {},
   "outputs": [],
   "source": [
    "\n",
    "# increase the font size\n",
    "import matplotlib.pylab as pylab\n",
    "params = {'axes.titlesize':'30'}\n",
    "pylab.rcParams.update(params)\n",
    "show2D([util.flipud_unpack(el) for el in recons], title=titles, cmap='inferno')\n"
   ]
  },
  {
   "cell_type": "code",
   "execution_count": null,
   "metadata": {},
   "outputs": [],
   "source": [
    "# Upper bound mask 0.97 circle or fitted \n",
    "def create_circular_mask(ub_mask_type, ub_val, basic_mask_radius=0.97, data=None, ig=None):\n",
    "    if ub_mask_type == 1:\n",
    "        ub = ig.allocate(ub_val)\n",
    "        ub = util.apply_circular_mask(ub, basic_mask_radius)\n",
    "    elif ub_mask_type == 2:\n",
    "        # sample mask with upper bound to acrylic attenuation\n",
    "        ub = ig.allocate(0)\n",
    "        circle_parameters = util.find_circle_parameters(data, ig)\n",
    "        util.fill_circular_mask(circle_parameters, ub.array, \\\n",
    "            ub_val, *ub.shape)\n",
    "    return ub"
   ]
  },
  {
   "cell_type": "code",
   "execution_count": null,
   "metadata": {},
   "outputs": [],
   "source": [
    "# Show the procedure for the circle fit\n",
    "from skimage.filters import threshold_otsu, threshold_multiotsu\n",
    "mag = util.calculate_gradient_magnitude(recons[1])\n",
    "\n",
    "# initial binary mask\n",
    "thresh = threshold_otsu(mag.array)\n",
    "binary_mask = mag.array > thresh\n",
    "\n",
    "disk = create_circular_mask(2, ub_val, data=data, ig=ig)\n"
   ]
  },
  {
   "cell_type": "code",
   "execution_count": null,
   "metadata": {},
   "outputs": [],
   "source": [
    "import matplotlib.pyplot as plt\n",
    "bm = ig.allocate(0)\n",
    "bm.fill(binary_mask)\n",
    "\n",
    "show2D([recons[1], bm, disk], cmap=['inferno', 'gray_r', 'gray'],\n",
    "       title=['Limited angle FDK\\n', 'Gradient Magnitude\\n', 'Disk\\n'], num_cols=3)\n",
    "\n",
    "plt.imshow(bm.as_array(), cmap='gray_r', origin='lower')\n",
    "plt.imshow((outercircle - innercircle).as_array(), cmap='hot_r', alpha=0.5, origin='lower', vmin=0, vmax=3)\n"
   ]
  },
  {
   "cell_type": "markdown",
   "metadata": {},
   "source": [
    "# Lower bound mask"
   ]
  },
  {
   "cell_type": "code",
   "execution_count": null,
   "metadata": {},
   "outputs": [],
   "source": [
    "# lower bound\n",
    "lb = ig.allocate(0.0)"
   ]
  },
  {
   "cell_type": "markdown",
   "metadata": {},
   "source": [
    "# Utility function to compute score and make plots compactly"
   ]
  },
  {
   "cell_type": "code",
   "execution_count": null,
   "metadata": {},
   "outputs": [],
   "source": [
    "def score_plot(recon_list, title_list, segmethod, ref, do_plot=5):\n",
    "    \n",
    "    seg_list = []\n",
    "    for rr in recon_list:\n",
    "        if segmethod == 1:\n",
    "            ss = util.apply_global_threshold(rr)\n",
    "        elif segment_type == 2:\n",
    "            ss = util.apply_crazy_threshold(rr)\n",
    "        seg_list.append(util.flipud_unpack(ss))\n",
    "    \n",
    "    score_list = []\n",
    "    for rr in seg_list:\n",
    "        score_list.append(util.calcScoreArray(rr, ref))\n",
    "    \n",
    "    if do_plot:\n",
    "        show2D(recon_list, title_list, num_cols=do_plot)\n",
    "        show2D(seg_list, title_list, num_cols=do_plot)\n",
    "        \n",
    "        diffseg_list = []\n",
    "        for rr in seg_list:\n",
    "            diffseg_list.append(rr.astype('float32')-ref.astype('float32'))\n",
    "        show2D(diffseg_list, title_list, num_cols=do_plot)\n",
    "    \n",
    "    for i, x in enumerate(title_list):\n",
    "        print(score_list[i],'\\t',x )\n",
    "    \n",
    "    return score_list, seg_list"
   ]
  },
  {
   "cell_type": "markdown",
   "metadata": {},
   "source": [
    "# Building the Optimisation Problem and solving it with PDHG"
   ]
  },
  {
   "cell_type": "code",
   "execution_count": null,
   "metadata": {},
   "outputs": [],
   "source": [
    "from cil.optimisation.functions import L2NormSquared, L1Norm, MixedL21Norm, BlockFunction, KullbackLeibler\n",
    "from cil.optimisation.operators import GradientOperator, BlockOperator, FiniteDifferenceOperator\n",
    "from cil.plugins.tigre import ProjectionOperator\n",
    "\n",
    "def configure_F_K(ig, data, iso_weight, aniso_weight_x, fidelity_weight):\n",
    "# FinDiff operators in y, x (numpy)\n",
    "    Grad = GradientOperator(ig)\n",
    "    A = ProjectionOperator(ig, data.geometry)\n",
    "    Dx = FiniteDifferenceOperator(ig, direction='horizontal_x')\n",
    "    K12x = BlockOperator(A, Grad, Dx)\n",
    "\n",
    "    omega = fidelity_weight\n",
    "    alpha = iso_weight\n",
    "    alpha_dx = aniso_weight_x\n",
    "    \n",
    "    f1 = omega*L2NormSquared(b=data)  \n",
    "    f2 = alpha*MixedL21Norm()\n",
    "    f_dx = alpha_dx*L1Norm()\n",
    "    F12x = BlockFunction(f1, f2, f_dx)\n",
    "    \n",
    "    normK = K12x.norm()\n",
    "    sigma = 1.0\n",
    "    tau = 1.0/(sigma*normK**2)\n",
    "    return F12x, K12x"
   ]
  },
  {
   "cell_type": "code",
   "execution_count": null,
   "metadata": {},
   "outputs": [],
   "source": [
    "def segment_and_calculate_score(recon, segmethod, ref):\n",
    "    \n",
    "    if segmethod == 1:\n",
    "        ss = util.apply_global_threshold(recon)\n",
    "    elif segment_type == 2:\n",
    "        ss = util.apply_crazy_threshold(recon)\n",
    "    segmentation = util.flipud_unpack(ss)\n",
    "    \n",
    "    score = util.calcScoreArray(segmentation, ref)\n",
    "        \n",
    "    return score, segmentation"
   ]
  },
  {
   "cell_type": "code",
   "execution_count": null,
   "metadata": {},
   "outputs": [],
   "source": [
    "from cil.optimisation.algorithms import PDHG\n",
    "from cil.optimisation.functions import IndicatorBox, ZeroFunction\n",
    "from cil.framework import AcquisitionData\n",
    "from algo import IndicatorBoxPixelwise\n",
    "from skimage.transform import rotate \n",
    "\n",
    "recons = []\n",
    "titles = []\n",
    "\n",
    "fidelity_weight = 90/ang_range\n",
    "iso_weight = 0.01\n",
    "aniso_weight_x = 0.03 * 1e-7\n",
    "\n",
    "num_iterations = 2000\n",
    "step_size_submitted = True\n",
    "\n",
    "segmentations = []\n",
    "scores = []\n",
    "\n",
    "KL_data_fitting = True\n",
    "# for i,alpha in enumerate(alpha_list):\n",
    "submitted_algo = False\n",
    "if submitted_algo:\n",
    "    from algo import pdhg_rotate_isotv_anisotv\n",
    "    from main import create_lb_ub\n",
    "    lb_val = 0\n",
    "    lb, ub = create_lb_ub(data, ig, ub_mask_type, lb_mask_type, \n",
    "                                ub_val, lb_val, basic_mask_radius, lb_inner_radius)\n",
    "    pars = [fidelity_weight, iso_weight, aniso_weight_x]\n",
    "    sol = pdhg_rotate_isotv_anisotv(data_BHC, ig, lb, ub, *pars, num_iters=2000, update_objective_interval=100, verbose=1)\n",
    "else:\n",
    "    # notice that the fitted mask wants the data non-preprocessed\n",
    "    if ub_mask_type == 1:\n",
    "        ub = create_circular_mask(1, ub_val, basic_mask_radius=basic_mask_radius, data=data_BHC, ig=ig)\n",
    "    elif ub_mask_type == 2:\n",
    "        ub = create_circular_mask(2, ub_val, data=data, ig=ig)\n",
    "    else:\n",
    "        raise ValueError('Unknown mask type. Expected 1 or 2, got {}'.format(ub_mask_type))\n",
    "\n",
    "    ag_rotated = data_BHC.geometry.copy()\n",
    "    \n",
    "    ang_middle = (data_BHC.geometry.angles[0]+data_BHC.geometry.angles[-1])/2\n",
    "    #ang_start = np.abs(data.geometry.angles[0])\n",
    "    #ang_range = np.abs(data.geometry.angles[-1]-data.geometry.angles[0])\n",
    "    #ang_rotate = (ang_start+ang_range/2.0)\n",
    "    ag_rotated.set_angles(data_BHC.geometry.angles - ang_middle, angle_unit='degree')\n",
    "    \n",
    "    data_rotated = AcquisitionData(data_BHC.as_array(), geometry=ag_rotated)\n",
    "\n",
    "    F, K = configure_F_K(ig, data_rotated, iso_weight, aniso_weight_x, fidelity_weight)\n",
    "\n",
    "    lb_copy = ig.allocate(0)\n",
    "    ub_copy = ub.copy()\n",
    "    lb_copy.array = rotate(lb.as_array(), -ang_middle)\n",
    "    ub_copy.array = rotate(ub.as_array(), -ang_middle)\n",
    "\n",
    "    G = IndicatorBoxPixelwise(lower=lb_copy, upper=ub_copy)\n",
    "    G = ZeroFunction()\n",
    "\n",
    "    normK = K.norm()\n",
    "    if step_size_submitted:\n",
    "       sigma = 1.0\n",
    "       tau = 1 / (sigma * normK**2)\n",
    "    else:\n",
    "       sigma = 1.0 / normK\n",
    "       tau = 1.0 / normK\n",
    "\n",
    "    algo = PDHG(operator=K, f=F, g=G, max_iteration=num_iterations, update_objective_interval=1000, sigma=sigma, tau=tau,)\n",
    "    algo.run()\n",
    "    sol =  algo.solution.copy()\n",
    "    sol.array = rotate(sol.as_array(), ang_middle)\n",
    "    \n",
    "    # diffseg_list.append(rr.astype('float32')-ref.astype('float32'))\n",
    "\n",
    "recons.append(sol)\n",
    "\n",
    "score, segmentation = segment_and_calculate_score(recons[-1], segment_type, ref)\n",
    "scores.append(score)\n",
    "segmentations.append(segmentation)"
   ]
  },
  {
   "cell_type": "code",
   "execution_count": null,
   "metadata": {},
   "outputs": [],
   "source": [
    "\n",
    "# increase the font size\n",
    "import matplotlib.pylab as pylab\n",
    "params = {'axes.titlesize':'30'}\n",
    "pylab.rcParams.update(params)\n",
    "\n",
    "tt = 'LS + {} TV + {} anisoTV   Mask: {}   '\n",
    "t =  tt.format(iso_weight, aniso_weight_x, ub_mask_str(ub_mask_type))\n",
    "# the submitted algorithms did not use the default settings\n",
    "is_default = '' if step_size_submitted else 'Tweaked'\n",
    "print (\"is_default\", is_default)\n",
    "tt = '{}   LS + isoTV + xTV    Mask: {}'\n",
    "if aniso_weight_x < 1e-7:\n",
    "       tt = '{}   LS + isoTV    Mask: {}'\n",
    "t = tt.format(is_default, ub_mask_str(ub_mask_type))\n",
    "titles[-1] = t\n",
    "\n",
    "test = show2D([recons[-1], \n",
    "               np.flipud(segmentations[-1]), \n",
    "              np.flipud(segmentations[-1].astype('float32')-ref.astype('float32'))], \n",
    "              title=['Reconstruction', \n",
    "                     '{}  {:d} deg.   Score: {:.3f}\\n\\nSegmentation'.format(titles[-1], int(ang_range), scores[-1]), \n",
    "                     'Diff'], \n",
    "              cmap=['inferno', 'gray', 'seismic'], num_cols=3, \n",
    "              )\n",
    "\n",
    "# test.figure.suptitle(titles[-1], fontsize=16, y=0.7)\n",
    "# import matplotlib.pyplot as plt\n",
    "# plt.tight_layout()\n",
    "# test.figure.show()\n"
   ]
  },
  {
   "cell_type": "code",
   "execution_count": null,
   "metadata": {},
   "outputs": [],
   "source": [
    "\n",
    "\n",
    "test = show2D([recons[-1], \n",
    "               np.flipud(segmentations[-1]), \n",
    "              np.flipud(segmentations[-1].astype('float32')-ref.astype('float32'))], \n",
    "              title=['Reconstruction', \n",
    "                     '{}  {:d} deg.   Score: {:.3f}\\n\\nSegmentation'.format(titles[-1], int(ang_range), scores[-1]), \n",
    "                     'Diff'], \n",
    "              cmap=['inferno', 'gray', 'seismic'], num_cols=3, \n",
    "              )\n",
    "# test.figure.suptitle(titles[-1], fontsize=16, y=0.7)\n",
    "# import matplotlib.pyplot as plt\n",
    "# plt.tight_layout()\n",
    "# test.figure.show()"
   ]
  },
  {
   "cell_type": "code",
   "execution_count": null,
   "metadata": {},
   "outputs": [],
   "source": [
    "lb1, ub1 = create_lb_ub(data, ig, ub_mask_type, lb_mask_type, \n",
    "                                ub_val, lb_val, basic_mask_radius, lb_inner_radius)\n",
    "show2D([ub, ub1, ub-ub1], cmap=['gray','gray', 'seismic'])"
   ]
  }
 ],
 "metadata": {
  "kernelspec": {
   "display_name": "Python 3.10.5",
   "language": "python",
   "name": "python3"
  },
  "language_info": {
   "codemirror_mode": {
    "name": "ipython",
    "version": 3
   },
   "file_extension": ".py",
   "mimetype": "text/x-python",
   "name": "python",
   "nbconvert_exporter": "python",
   "pygments_lexer": "ipython3",
   "version": "3.10.5"
  },
  "vscode": {
   "interpreter": {
    "hash": "b0dbd48b69ba3b0dfbd781163663c3e3c90ab05f6b88a2ec5127056b49cfc0e3"
   }
  }
 },
 "nbformat": 4,
 "nbformat_minor": 2
}
